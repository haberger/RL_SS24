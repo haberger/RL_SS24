{
 "cells": [
  {
   "cell_type": "code",
   "execution_count": 98,
   "metadata": {},
   "outputs": [],
   "source": [
    "import numpy as np\n",
    "import matplotlib.pyplot as plt\n",
    "import random"
   ]
  },
  {
   "cell_type": "markdown",
   "metadata": {},
   "source": [
    "## Exercise 4"
   ]
  },
  {
   "cell_type": "code",
   "execution_count": 99,
   "metadata": {},
   "outputs": [],
   "source": [
    "class GridWorld:\n",
    "    def __init__(self, grid_size=4, max_steps=100):\n",
    "        self.grid_size = grid_size\n",
    "        self.max_steps = max_steps\n",
    "        self.num_actions = 4  # Up, Down, Left, Right\n",
    "        self.actions = ['up', 'down', 'left', 'right']\n",
    "        self.actions_map = {'up': (-1, 0), 'down': (1, 0), 'left': (0, -1), 'right': (0, 1)}\n",
    "        self.terminal_states = [(0, 0), (grid_size - 1, grid_size - 1)]\n",
    "        self.reset()\n",
    "\n",
    "    def reset(self):\n",
    "        self.state = (self.grid_size - 1, 0)  # Start from lower left corner\n",
    "        self.steps = 0\n",
    "        return self.state\n",
    "\n",
    "    def step(self, state, action, evaluate=False):\n",
    "        if not evaluate:\n",
    "            self.steps += 1\n",
    "\n",
    "        if state in self.terminal_states:\n",
    "            return state, 0, True  # Remain in the same terminal state\n",
    "        \n",
    "        if self.steps >= self.max_steps:\n",
    "            return state, 0, True   \n",
    "\n",
    "        x, y = state\n",
    "        dx, dy = self.actions_map[action]\n",
    "        new_x, new_y = x + dx, y + dy\n",
    "\n",
    "        if 0 <= new_x < self.grid_size and 0 <= new_y < self.grid_size:\n",
    "            next_state = (new_x, new_y)\n",
    "        else:\n",
    "            next_state = (x, y)  # Stay in the same state if the action is invalid\n",
    "\n",
    "        reward = -1  # Always receive a reward of -1 for each step\n",
    "        done = next_state in self.terminal_states\n",
    "\n",
    "        if not evaluate:\n",
    "            self.state = next_state\n",
    "\n",
    "        return next_state, reward, done\n",
    "\n",
    "    def render(self):\n",
    "        grid = np.zeros((self.grid_size, self.grid_size))\n",
    "        for terminal_state in self.terminal_states:\n",
    "            grid[terminal_state] = -10  # Mark terminal states with a distinct value\n",
    "        grid[self.state] = 1  # Mark current state with a value of 1\n",
    "        print(grid)"
   ]
  },
  {
   "cell_type": "code",
   "execution_count": 100,
   "metadata": {},
   "outputs": [
    {
     "name": "stdout",
     "output_type": "stream",
     "text": [
      "[[-10.   0.   0.   0.]\n",
      " [  0.   0.   0.   0.]\n",
      " [  0.   0.   0.   0.]\n",
      " [  1.   0.   0. -10.]]\n",
      "Action: down\n",
      "State: (3, 0)\n",
      "Reward: -1\n",
      "Done: False\n",
      "\n",
      "[[-10.   0.   0.   0.]\n",
      " [  0.   0.   0.   0.]\n",
      " [  0.   0.   0.   0.]\n",
      " [  1.   0.   0. -10.]]\n",
      "Action: down\n",
      "State: (3, 0)\n",
      "Reward: -1\n",
      "Done: False\n",
      "\n",
      "[[-10.   0.   0.   0.]\n",
      " [  0.   0.   0.   0.]\n",
      " [  0.   0.   0.   0.]\n",
      " [  1.   0.   0. -10.]]\n",
      "Action: left\n",
      "State: (3, 0)\n",
      "Reward: -1\n",
      "Done: False\n",
      "\n",
      "[[-10.   0.   0.   0.]\n",
      " [  0.   0.   0.   0.]\n",
      " [  0.   0.   0.   0.]\n",
      " [  1.   0.   0. -10.]]\n",
      "Action: left\n",
      "State: (3, 0)\n",
      "Reward: -1\n",
      "Done: False\n",
      "\n",
      "[[-10.   0.   0.   0.]\n",
      " [  0.   0.   0.   0.]\n",
      " [  0.   0.   0.   0.]\n",
      " [  1.   0.   0. -10.]]\n",
      "Action: down\n",
      "State: (3, 0)\n",
      "Reward: -1\n",
      "Done: False\n",
      "\n",
      "[[-10.   0.   0.   0.]\n",
      " [  0.   0.   0.   0.]\n",
      " [  0.   0.   0.   0.]\n",
      " [  1.   0.   0. -10.]]\n",
      "Action: right\n",
      "State: (3, 1)\n",
      "Reward: -1\n",
      "Done: False\n",
      "\n",
      "[[-10.   0.   0.   0.]\n",
      " [  0.   0.   0.   0.]\n",
      " [  0.   0.   0.   0.]\n",
      " [  0.   1.   0. -10.]]\n",
      "Action: left\n",
      "State: (3, 0)\n",
      "Reward: -1\n",
      "Done: False\n",
      "\n",
      "[[-10.   0.   0.   0.]\n",
      " [  0.   0.   0.   0.]\n",
      " [  0.   0.   0.   0.]\n",
      " [  1.   0.   0. -10.]]\n",
      "Action: right\n",
      "State: (3, 1)\n",
      "Reward: -1\n",
      "Done: False\n",
      "\n",
      "[[-10.   0.   0.   0.]\n",
      " [  0.   0.   0.   0.]\n",
      " [  0.   0.   0.   0.]\n",
      " [  0.   1.   0. -10.]]\n",
      "Action: up\n",
      "State: (2, 1)\n",
      "Reward: -1\n",
      "Done: False\n",
      "\n",
      "[[-10.   0.   0.   0.]\n",
      " [  0.   0.   0.   0.]\n",
      " [  0.   1.   0.   0.]\n",
      " [  0.   0.   0. -10.]]\n",
      "Action: left\n",
      "State: (2, 0)\n",
      "Reward: -1\n",
      "Done: False\n",
      "\n"
     ]
    }
   ],
   "source": [
    "env = GridWorld()\n",
    "\n",
    "for _ in range(10):\n",
    "    env.render()\n",
    "    action = np.random.choice(env.actions)  # Choose a random action\n",
    "    state, reward, done = env.step(env.state, action)\n",
    "    print(\"Action:\", action)\n",
    "    print(\"State:\", state)\n",
    "    print(\"Reward:\", reward)\n",
    "    print(\"Done:\", done)\n",
    "    print()\n",
    "\n",
    "    if done:\n",
    "        break"
   ]
  },
  {
   "cell_type": "markdown",
   "metadata": {},
   "source": [
    "## Exercise 5"
   ]
  },
  {
   "cell_type": "code",
   "execution_count": 106,
   "metadata": {},
   "outputs": [],
   "source": [
    "def iterative_policy_evaluation(env, policy, threshold=1e-10, gamma=1.0):\n",
    "    V = np.zeros((env.grid_size, env.grid_size))  # Initialize V arbitrarily\n",
    "    delta = threshold + 1\n",
    "    deltas = []\n",
    "\n",
    "    while delta > threshold:\n",
    "        delta = 0\n",
    "        for i in range(env.grid_size):\n",
    "            for j in range(env.grid_size):\n",
    "                v = V[i, j]\n",
    "                new_v = 0\n",
    "                for action in env.actions:\n",
    "                    next_state, reward, _ = env.step((i, j), action, evaluate=True)\n",
    "                    new_v += policy * (reward + gamma * V[next_state[0], next_state[1]])\n",
    "\n",
    "                V[i, j] = new_v\n",
    "                delta = max(delta, abs(v - new_v))\n",
    "\n",
    "        deltas.append(delta)\n",
    "\n",
    "    return V, deltas"
   ]
  },
  {
   "cell_type": "code",
   "execution_count": 107,
   "metadata": {},
   "outputs": [
    {
     "name": "stdout",
     "output_type": "stream",
     "text": [
      "Estimated state values (V_pi):\n",
      "[[  0. -14. -20. -22.]\n",
      " [-14. -18. -20. -20.]\n",
      " [-20. -20. -18. -14.]\n",
      " [-22. -20. -14.   0.]]\n"
     ]
    },
    {
     "data": {
      "image/png": "[encoded data removed]",
      "text/plain": [
       "<Figure size 432x288 with 1 Axes>"
      ]
     },
     "metadata": {
      "needs_background": "light"
     },
     "output_type": "display_data"
    }
   ],
   "source": [
    "# Define the grid world environment\n",
    "env = GridWorld()\n",
    "\n",
    "# Define the equiprobable random policy\n",
    "policy = 0.25  # Probability of taking each action\n",
    "\n",
    "# Perform iterative policy evaluation\n",
    "V_pi, delta_values = iterative_policy_evaluation(env, policy)\n",
    "\n",
    "print(\"Estimated state values (V_pi):\")\n",
    "print(V_pi)\n",
    "\n",
    "# Plot delta over time\n",
    "plt.plot(delta_values)\n",
    "plt.xlabel('Iterations')\n",
    "plt.ylabel('Delta')\n",
    "plt.title('Delta Convergence')\n",
    "plt.grid(True)\n",
    "plt.show()"
   ]
  },
  {
   "cell_type": "markdown",
   "metadata": {},
   "source": [
    "## Exercise 6"
   ]
  }
 ],
 "metadata": {
  "kernelspec": {
   "display_name": "Python 3",
   "language": "python",
   "name": "python3"
  },
  "language_info": {
   "codemirror_mode": {
    "name": "ipython",
    "version": 3
   },
   "file_extension": ".py",
   "mimetype": "text/x-python",
   "name": "python",
   "nbconvert_exporter": "python",
   "pygments_lexer": "ipython3",
   "version": "3.9.0"
  }
 },
 "nbformat": 4,
 "nbformat_minor": 2
}
