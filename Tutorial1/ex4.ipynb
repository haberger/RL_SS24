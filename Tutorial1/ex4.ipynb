{
 "cells": [
  {
   "cell_type": "code",
   "execution_count": 1,
   "metadata": {},
   "outputs": [],
   "source": [
    "import numpy as np\n",
    "import matplotlib.pyplot as plt"
   ]
  },
  {
   "cell_type": "code",
   "execution_count": 2,
   "metadata": {},
   "outputs": [],
   "source": [
    "num_bandits = 10\n",
    "num_steps = 1000\n",
    "num_episodes = 1000\n",
    "\n",
    "def choose_action(q_values, epsilon):\n",
    "    if np.random.random() < epsilon:\n",
    "        return np.random.choice(num_bandits)\n",
    "    else:\n",
    "        return np.argmax(q_values)\n",
    "\n",
    "def run_bandit(epsilon):\n",
    "    total_rewards = np.zeros(num_bandits)\n",
    "    optimal_actions = np.zeros(num_steps)\n",
    "    rewards_per_step = np.zeros(num_steps)  # Store rewards per time step\n",
    "    for _ in range(num_episodes):\n",
    "        q_true_values = np.random.normal(loc=0, scale=1, size=num_bandits)\n",
    "        q_values = np.zeros(num_bandits) \n",
    "        action_counts = np.zeros(num_bandits)\n",
    "        optimal_action = np.argmax(q_true_values)\n",
    "        for step in range(num_steps):\n",
    "            action = choose_action(q_values, epsilon)\n",
    "            reward = np.random.normal(loc=q_true_values[action], scale=1)\n",
    "            total_rewards[action] += reward\n",
    "            action_counts[action] += 1\n",
    "            q_values[action] += (reward - q_values[action]) / action_counts[action]\n",
    "            if action == optimal_action:\n",
    "                optimal_actions[step] += 1\n",
    "            rewards_per_step[step] += reward  # Store reward at each time step\n",
    "    return total_rewards / (num_episodes*num_steps), optimal_actions / (num_episodes*num_steps) * 100, rewards_per_step / num_episodes"
   ]
  },
  {
   "cell_type": "code",
   "execution_count": 3,
   "metadata": {},
   "outputs": [
    {
     "name": "stdout",
     "output_type": "stream",
     "text": [
      "Current epsilon: 0.0\n",
      "Current epsilon: 0.00013738237958832623\n",
      "Current epsilon: 0.00018873918221350977\n",
      "Current epsilon: 0.0002592943797404667\n",
      "Current epsilon: 0.0003562247890262444\n",
      "Current epsilon: 0.0004893900918477494\n",
      "Current epsilon: 0.0006723357536499335\n",
      "Current epsilon: 0.0009236708571873865\n",
      "Current epsilon: 0.0012689610031679222\n"
     ]
    },
    {
     "ename": "KeyboardInterrupt",
     "evalue": "",
     "output_type": "error",
     "traceback": [
      "\u001b[1;31m---------------------------------------------------------------------------\u001b[0m",
      "\u001b[1;31mKeyboardInterrupt\u001b[0m                         Traceback (most recent call last)",
      "\u001b[1;32m<ipython-input-3-92d9241aad81>\u001b[0m in \u001b[0;36m<module>\u001b[1;34m\u001b[0m\n\u001b[0;32m     11\u001b[0m \u001b[1;32mfor\u001b[0m \u001b[0mepsilon\u001b[0m \u001b[1;32min\u001b[0m \u001b[0mepsilons\u001b[0m\u001b[1;33m:\u001b[0m\u001b[1;33m\u001b[0m\u001b[1;33m\u001b[0m\u001b[0m\n\u001b[0;32m     12\u001b[0m     \u001b[0mprint\u001b[0m\u001b[1;33m(\u001b[0m\u001b[1;34m\"Current epsilon:\"\u001b[0m\u001b[1;33m,\u001b[0m \u001b[0mepsilon\u001b[0m\u001b[1;33m)\u001b[0m\u001b[1;33m\u001b[0m\u001b[1;33m\u001b[0m\u001b[0m\n\u001b[1;32m---> 13\u001b[1;33m     \u001b[0mavg_reward\u001b[0m\u001b[1;33m,\u001b[0m \u001b[0mopt_actions\u001b[0m\u001b[1;33m,\u001b[0m \u001b[0mrewards_per_step\u001b[0m \u001b[1;33m=\u001b[0m \u001b[0mrun_bandit\u001b[0m\u001b[1;33m(\u001b[0m\u001b[0mepsilon\u001b[0m\u001b[1;33m)\u001b[0m\u001b[1;33m\u001b[0m\u001b[1;33m\u001b[0m\u001b[0m\n\u001b[0m\u001b[0;32m     14\u001b[0m     \u001b[0maverage_rewards\u001b[0m\u001b[1;33m.\u001b[0m\u001b[0mappend\u001b[0m\u001b[1;33m(\u001b[0m\u001b[0mavg_reward\u001b[0m\u001b[1;33m)\u001b[0m\u001b[1;33m\u001b[0m\u001b[1;33m\u001b[0m\u001b[0m\n\u001b[0;32m     15\u001b[0m     \u001b[0mpercentage_optimal_actions\u001b[0m\u001b[1;33m.\u001b[0m\u001b[0mappend\u001b[0m\u001b[1;33m(\u001b[0m\u001b[0mopt_actions\u001b[0m\u001b[1;33m)\u001b[0m\u001b[1;33m\u001b[0m\u001b[1;33m\u001b[0m\u001b[0m\n",
      "\u001b[1;32m<ipython-input-2-ad90a8af61bf>\u001b[0m in \u001b[0;36mrun_bandit\u001b[1;34m(epsilon)\u001b[0m\n\u001b[0;32m     19\u001b[0m         \u001b[0moptimal_action\u001b[0m \u001b[1;33m=\u001b[0m \u001b[0mnp\u001b[0m\u001b[1;33m.\u001b[0m\u001b[0margmax\u001b[0m\u001b[1;33m(\u001b[0m\u001b[0mq_true_values\u001b[0m\u001b[1;33m)\u001b[0m\u001b[1;33m\u001b[0m\u001b[1;33m\u001b[0m\u001b[0m\n\u001b[0;32m     20\u001b[0m         \u001b[1;32mfor\u001b[0m \u001b[0mstep\u001b[0m \u001b[1;32min\u001b[0m \u001b[0mrange\u001b[0m\u001b[1;33m(\u001b[0m\u001b[0mnum_steps\u001b[0m\u001b[1;33m)\u001b[0m\u001b[1;33m:\u001b[0m\u001b[1;33m\u001b[0m\u001b[1;33m\u001b[0m\u001b[0m\n\u001b[1;32m---> 21\u001b[1;33m             \u001b[0maction\u001b[0m \u001b[1;33m=\u001b[0m \u001b[0mchoose_action\u001b[0m\u001b[1;33m(\u001b[0m\u001b[0mq_values\u001b[0m\u001b[1;33m,\u001b[0m \u001b[0mepsilon\u001b[0m\u001b[1;33m)\u001b[0m\u001b[1;33m\u001b[0m\u001b[1;33m\u001b[0m\u001b[0m\n\u001b[0m\u001b[0;32m     22\u001b[0m             \u001b[0mreward\u001b[0m \u001b[1;33m=\u001b[0m \u001b[0mnp\u001b[0m\u001b[1;33m.\u001b[0m\u001b[0mrandom\u001b[0m\u001b[1;33m.\u001b[0m\u001b[0mnormal\u001b[0m\u001b[1;33m(\u001b[0m\u001b[0mloc\u001b[0m\u001b[1;33m=\u001b[0m\u001b[0mq_true_values\u001b[0m\u001b[1;33m[\u001b[0m\u001b[0maction\u001b[0m\u001b[1;33m]\u001b[0m\u001b[1;33m,\u001b[0m \u001b[0mscale\u001b[0m\u001b[1;33m=\u001b[0m\u001b[1;36m1\u001b[0m\u001b[1;33m)\u001b[0m\u001b[1;33m\u001b[0m\u001b[1;33m\u001b[0m\u001b[0m\n\u001b[0;32m     23\u001b[0m             \u001b[0mtotal_rewards\u001b[0m\u001b[1;33m[\u001b[0m\u001b[0maction\u001b[0m\u001b[1;33m]\u001b[0m \u001b[1;33m+=\u001b[0m \u001b[0mreward\u001b[0m\u001b[1;33m\u001b[0m\u001b[1;33m\u001b[0m\u001b[0m\n",
      "\u001b[1;32m<ipython-input-2-ad90a8af61bf>\u001b[0m in \u001b[0;36mchoose_action\u001b[1;34m(q_values, epsilon)\u001b[0m\n\u001b[0;32m      7\u001b[0m         \u001b[1;32mreturn\u001b[0m \u001b[0mnp\u001b[0m\u001b[1;33m.\u001b[0m\u001b[0mrandom\u001b[0m\u001b[1;33m.\u001b[0m\u001b[0mchoice\u001b[0m\u001b[1;33m(\u001b[0m\u001b[0mnum_bandits\u001b[0m\u001b[1;33m)\u001b[0m\u001b[1;33m\u001b[0m\u001b[1;33m\u001b[0m\u001b[0m\n\u001b[0;32m      8\u001b[0m     \u001b[1;32melse\u001b[0m\u001b[1;33m:\u001b[0m\u001b[1;33m\u001b[0m\u001b[1;33m\u001b[0m\u001b[0m\n\u001b[1;32m----> 9\u001b[1;33m         \u001b[1;32mreturn\u001b[0m \u001b[0mnp\u001b[0m\u001b[1;33m.\u001b[0m\u001b[0margmax\u001b[0m\u001b[1;33m(\u001b[0m\u001b[0mq_values\u001b[0m\u001b[1;33m)\u001b[0m\u001b[1;33m\u001b[0m\u001b[1;33m\u001b[0m\u001b[0m\n\u001b[0m\u001b[0;32m     10\u001b[0m \u001b[1;33m\u001b[0m\u001b[0m\n\u001b[0;32m     11\u001b[0m \u001b[1;32mdef\u001b[0m \u001b[0mrun_bandit\u001b[0m\u001b[1;33m(\u001b[0m\u001b[0mepsilon\u001b[0m\u001b[1;33m)\u001b[0m\u001b[1;33m:\u001b[0m\u001b[1;33m\u001b[0m\u001b[1;33m\u001b[0m\u001b[0m\n",
      "\u001b[1;32mc:\\Users\\dhabe\\AppData\\Local\\Programs\\Python\\Python39\\lib\\site-packages\\numpy\\core\\overrides.py\u001b[0m in \u001b[0;36margmax\u001b[1;34m(*args, **kwargs)\u001b[0m\n",
      "\u001b[1;32mc:\\Users\\dhabe\\AppData\\Local\\Programs\\Python\\Python39\\lib\\site-packages\\numpy\\core\\fromnumeric.py\u001b[0m in \u001b[0;36margmax\u001b[1;34m(a, axis, out, keepdims)\u001b[0m\n\u001b[0;32m   1214\u001b[0m     \"\"\"\n\u001b[0;32m   1215\u001b[0m     \u001b[0mkwds\u001b[0m \u001b[1;33m=\u001b[0m \u001b[1;33m{\u001b[0m\u001b[1;34m'keepdims'\u001b[0m\u001b[1;33m:\u001b[0m \u001b[0mkeepdims\u001b[0m\u001b[1;33m}\u001b[0m \u001b[1;32mif\u001b[0m \u001b[0mkeepdims\u001b[0m \u001b[1;32mis\u001b[0m \u001b[1;32mnot\u001b[0m \u001b[0mnp\u001b[0m\u001b[1;33m.\u001b[0m\u001b[0m_NoValue\u001b[0m \u001b[1;32melse\u001b[0m \u001b[1;33m{\u001b[0m\u001b[1;33m}\u001b[0m\u001b[1;33m\u001b[0m\u001b[1;33m\u001b[0m\u001b[0m\n\u001b[1;32m-> 1216\u001b[1;33m     \u001b[1;32mreturn\u001b[0m \u001b[0m_wrapfunc\u001b[0m\u001b[1;33m(\u001b[0m\u001b[0ma\u001b[0m\u001b[1;33m,\u001b[0m \u001b[1;34m'argmax'\u001b[0m\u001b[1;33m,\u001b[0m \u001b[0maxis\u001b[0m\u001b[1;33m=\u001b[0m\u001b[0maxis\u001b[0m\u001b[1;33m,\u001b[0m \u001b[0mout\u001b[0m\u001b[1;33m=\u001b[0m\u001b[0mout\u001b[0m\u001b[1;33m,\u001b[0m \u001b[1;33m**\u001b[0m\u001b[0mkwds\u001b[0m\u001b[1;33m)\u001b[0m\u001b[1;33m\u001b[0m\u001b[1;33m\u001b[0m\u001b[0m\n\u001b[0m\u001b[0;32m   1217\u001b[0m \u001b[1;33m\u001b[0m\u001b[0m\n\u001b[0;32m   1218\u001b[0m \u001b[1;33m\u001b[0m\u001b[0m\n",
      "\u001b[1;32mc:\\Users\\dhabe\\AppData\\Local\\Programs\\Python\\Python39\\lib\\site-packages\\numpy\\core\\fromnumeric.py\u001b[0m in \u001b[0;36m_wrapfunc\u001b[1;34m(obj, method, *args, **kwds)\u001b[0m\n\u001b[0;32m     55\u001b[0m \u001b[1;33m\u001b[0m\u001b[0m\n\u001b[0;32m     56\u001b[0m     \u001b[1;32mtry\u001b[0m\u001b[1;33m:\u001b[0m\u001b[1;33m\u001b[0m\u001b[1;33m\u001b[0m\u001b[0m\n\u001b[1;32m---> 57\u001b[1;33m         \u001b[1;32mreturn\u001b[0m \u001b[0mbound\u001b[0m\u001b[1;33m(\u001b[0m\u001b[1;33m*\u001b[0m\u001b[0margs\u001b[0m\u001b[1;33m,\u001b[0m \u001b[1;33m**\u001b[0m\u001b[0mkwds\u001b[0m\u001b[1;33m)\u001b[0m\u001b[1;33m\u001b[0m\u001b[1;33m\u001b[0m\u001b[0m\n\u001b[0m\u001b[0;32m     58\u001b[0m     \u001b[1;32mexcept\u001b[0m \u001b[0mTypeError\u001b[0m\u001b[1;33m:\u001b[0m\u001b[1;33m\u001b[0m\u001b[1;33m\u001b[0m\u001b[0m\n\u001b[0;32m     59\u001b[0m         \u001b[1;31m# A TypeError occurs if the object does have such a method in its\u001b[0m\u001b[1;33m\u001b[0m\u001b[1;33m\u001b[0m\u001b[1;33m\u001b[0m\u001b[0m\n",
      "\u001b[1;31mKeyboardInterrupt\u001b[0m: "
     ]
    }
   ],
   "source": [
    "epsilons = np.logspace(-4, 0, num=30)[1:]\n",
    "#instert 0 to the beginning of the array\n",
    "epsilons = np.insert(epsilons, 0, 0)\n",
    "\n",
    "average_rewards = []\n",
    "percentage_optimal_actions = []\n",
    "reward_per_step_best_epsilon = None\n",
    "best_avg_reward = float('-inf')\n",
    "best_epsilon = None\n",
    "reward_per_step_other_epsilons = []\n",
    "\n",
    "for epsilon in epsilons:\n",
    "    print(\"Current epsilon:\", epsilon)\n",
    "    avg_reward, opt_actions, rewards_per_step = run_bandit(epsilon)\n",
    "    average_rewards.append(avg_reward)\n",
    "    percentage_optimal_actions.append(opt_actions)\n",
    "    # Check if current epsilon gives the best average reward\n",
    "    if np.mean(rewards_per_step) > best_avg_reward:\n",
    "        best_avg_reward = np.mean(rewards_per_step)\n",
    "        best_epsilon = epsilon\n",
    "        reward_per_step_best_epsilon = rewards_per_step\n",
    "    # Store rewards per time step for two other epsilons for comparison\n",
    "    if epsilon == 0.01:\n",
    "        reward_per_step_other_epsilons.append(rewards_per_step)\n",
    "    elif epsilon == 0.1:\n",
    "        reward_per_step_other_epsilons.append(rewards_per_step)"
   ]
  },
  {
   "cell_type": "code",
   "execution_count": null,
   "metadata": {},
   "outputs": [],
   "source": [
    "plt.figure(figsize=(12, 8))\n",
    "\n",
    "# Plot average reward vs epsilon\n",
    "plt.subplot(2, 2, 1)\n",
    "plt.plot(epsilons, [np.mean(reward) for reward in average_rewards])\n",
    "plt.xlabel('Epsilon')\n",
    "plt.ylabel('Average Reward')\n",
    "plt.title('Average Reward vs Epsilon')\n",
    "\n",
    "# Plot percentage of optimal actions taken vs epsilon\n",
    "plt.subplot(2, 2, 2)\n",
    "plt.plot(epsilons, [np.max(actions) for actions in percentage_optimal_actions])\n",
    "plt.xlabel('Epsilon')\n",
    "plt.ylabel('Percentage of Optimal Actions Taken')\n",
    "plt.title('Percentage of Optimal Actions Taken vs Epsilon')\n",
    "\n",
    "# Plot average reward per time step for the best epsilon\n",
    "plt.subplot(2, 1, 2)\n",
    "plt.plot(range(num_steps), reward_per_step_best_epsilon, label=f'Best Epsilon ({best_epsilon})')\n",
    "for i, epsilon in enumerate([0.01, 0.1]):\n",
    "    plt.plot(range(num_steps), reward_per_step_other_epsilons[i], label=f'Epsilon={epsilon}')\n",
    "plt.xlabel('Time Step')\n",
    "plt.ylabel('Average Reward')\n",
    "plt.title('Average Reward per Time Step')\n",
    "plt.legend()\n",
    "plt.tight_layout()\n",
    "plt.show()"
   ]
  }
 ],
 "metadata": {
  "kernelspec": {
   "display_name": "Python 3",
   "language": "python",
   "name": "python3"
  },
  "language_info": {
   "codemirror_mode": {
    "name": "ipython",
    "version": 3
   },
   "file_extension": ".py",
   "mimetype": "text/x-python",
   "name": "python",
   "nbconvert_exporter": "python",
   "pygments_lexer": "ipython3",
   "version": "3.9.0"
  }
 },
 "nbformat": 4,
 "nbformat_minor": 2
}
